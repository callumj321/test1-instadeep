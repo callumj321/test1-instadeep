{
 "cells": [
  {
   "cell_type": "code",
   "execution_count": 1,
   "metadata": {},
   "outputs": [
    {
     "data": {
      "application/vnd.jupyter.widget-view+json": {
       "model_id": "3771d1e5ae3c4705b3fd14174ae7dda3",
       "version_major": 2,
       "version_minor": 0
      },
      "text/plain": []
     },
     "metadata": {},
     "output_type": "display_data"
    }
   ],
   "source": [
    "import pandas as pd\n",
    "import py3Dmol as pymol\n",
    "import MDAnalysis as mda\n",
    "import matplotlib.pyplot as plt\n",
    "import numpy as np\n",
    "from IPython.display import HTML\n",
    "import heatmapper as heat\n",
    "import nglview as nv\n",
    "import webbrowser\n",
    "\n",
    "rbd_segid_6m0j = 'E'\n",
    "rbd_segid_7z0x = 'R'\n",
    "\n",
    "ace2_segid_6m0j = 'A'\n",
    "\n",
    "fab_segid1_7z0x = 'H'\n",
    "fab_segid2_7z0x = 'L'\n",
    "\n",
    "rbm_resid_range = range(438,506)\n",
    "ace2_bind_site_range = range(0,85)\n",
    "\n",
    "s_protein_rbd_colour = '#f65fab'\n",
    "ace2_receptor_colour = '#4aa6ff'\n",
    "fab_mon_1_colour = '#45c4c2'\n",
    "fab_mon_2_colour = '#51c445'"
   ]
  },
  {
   "cell_type": "markdown",
   "metadata": {},
   "source": [
    "Preliminary analysis of binding sites\n",
    "==="
   ]
  },
  {
   "cell_type": "markdown",
   "metadata": {},
   "source": [
    "6M0J\n",
    "===\n",
    "CRYSTAL STRUCTURE OF SARS-COV-2 SPIKE RECEPTOR-BINDING DOMAIN BOUND WITH ACE2\\\n",
    "\\\n",
    "A preliminary look at the binding region can be taken fairly easily for the 6M0J structure as S protein - ACE2 binding is at this point fairly well detailed.\\\n",
    "Becasue of this, the RBM region (S protein) and N-terminal helix (ACE2) can be used as an initial binding region to examine."
   ]
  },
  {
   "cell_type": "code",
   "execution_count": 2,
   "metadata": {},
   "outputs": [
    {
     "data": {
      "application/3dmoljs_load.v0": "<div id=\"3dmolviewer_17024149986072927\"  style=\"position: relative; width: 1600px; height: 800px;\">\n        <p id=\"3dmolwarning_17024149986072927\" style=\"background-color:#ffcccc;color:black\">You appear to be running in JupyterLab (or JavaScript failed to load for some other reason).  You need to install the 3dmol extension: <br>\n        <tt>jupyter labextension install jupyterlab_3dmol</tt></p>\n        </div>\n<script>\n\nvar loadScriptAsync = function(uri){\n  return new Promise((resolve, reject) => {\n    //this is to ignore the existence of requirejs amd\n    var savedexports, savedmodule;\n    if (typeof exports !== 'undefined') savedexports = exports;\n    else exports = {}\n    if (typeof module !== 'undefined') savedmodule = module;\n    else module = {}\n\n    var tag = document.createElement('script');\n    tag.src = uri;\n    tag.async = true;\n    tag.onload = () => {\n        exports = savedexports;\n        module = savedmodule;\n        resolve();\n    };\n  var firstScriptTag = document.getElementsByTagName('script')[0];\n  firstScriptTag.parentNode.insertBefore(tag, firstScriptTag);\n});\n};\n\nif(typeof $3Dmolpromise === 'undefined') {\n$3Dmolpromise = null;\n  $3Dmolpromise = loadScriptAsync('https://cdnjs.cloudflare.com/ajax/libs/3Dmol/2.0.4/3Dmol-min.js');\n}\n\nvar viewer_17024149986072927 = null;\nvar warn = document.getElementById(\"3dmolwarning_17024149986072927\");\nif(warn) {\n    warn.parentNode.removeChild(warn);\n}\n$3Dmolpromise.then(function() {\nvar viewergrid_17024149986072927 = null;\nviewergrid_17024149986072927 = $3Dmol.createViewerGrid(document.getElementById(\"3dmolviewer_17024149986072927\"),{rows: 1, cols: 3, control_all: true},{backgroundColor:\"white\"});\nviewer_17024149986072927 = viewergrid_17024149986072927[0][0];\n$3Dmol.download(\"pdb:6m0j\", viewergrid_17024149986072927[0][0], {}, function() {\n$3Dmol.download(\"pdb:6m0j\", viewergrid_17024149986072927[0][1], {}, function() {\n$3Dmol.download(\"pdb:6m0j\", viewergrid_17024149986072927[0][2], {}, function() {\nviewergrid_17024149986072927[0][0].zoomTo();viewergrid_17024149986072927[0][1].zoomTo();viewergrid_17024149986072927[0][2].zoomTo();\tviewergrid_17024149986072927[0][0].setStyle({\"chain\": \"E\"},{\"cartoon\": {\"color\": \"#f65fab\"}});\n\tviewergrid_17024149986072927[0][0].setStyle({\"chain\": \"A\"},{\"cartoon\": {\"color\": \"#4aa6ff\"}});\n\tviewergrid_17024149986072927[0][0].addLabel(\"RBM (pink) - ACE2 (blue) binding\",{\"fontColor\": \"black\", \"backgroundColor\": \"white\", \"position\": {\"x\": 100, \"y\": 100, \"z\": 100}, \"fontSize\": 12},{\"chain\": \"A\", \"resi\": 20});\n\tviewergrid_17024149986072927[0][1].setStyle({\"chain\": \"E\", \"within\": {\"distance\": 15, \"sel\": {\"chain\": \"A\"}}},{\"cartoon\": {\"color\": \"#f65fab\"}});\n\tviewergrid_17024149986072927[0][1].setStyle({\"chain\": \"A\", \"within\": {\"distance\": 15, \"sel\": {\"chain\": \"E\"}}},{\"cartoon\": {\"color\": \"#4aa6ff\"}});\n\tviewergrid_17024149986072927[0][1].addLabel(\"Residues within 1.5nm of each chain\",{\"fontColor\": \"black\", \"backgroundColor\": \"white\", \"position\": {\"x\": 100, \"y\": 100, \"z\": 100}, \"fontSize\": 12},{\"chain\": \"A\", \"resi\": 20});\n\tviewergrid_17024149986072927[0][2].setStyle({\"chain\": \"E\", \"resi\": [437, 438, 439, 440, 441, 442, 443, 444, 445, 446, 447, 448, 449, 450, 451, 452, 453, 454, 455, 456, 457, 458, 459, 460, 461, 462, 463, 464, 465, 466, 467, 468, 469, 470, 471, 472, 473, 474, 475, 476, 477, 478, 479, 480, 481, 482, 483, 484, 485, 486, 487, 488, 489, 490, 491, 492, 493, 494, 495, 496, 497, 498, 499, 500, 501, 502, 503, 504, 505, 506, 507]},{\"cartoon\": {\"color\": \"#f65fab\"}});\n\tviewergrid_17024149986072927[0][2].setStyle({\"chain\": \"A\", \"resi\": [20, 21, 22, 23, 24, 25, 26, 27, 28, 29, 30, 31, 32, 33, 34, 35, 36, 37, 38, 39, 40, 41, 42, 43, 44, 45, 46, 47, 48, 49, 50, 51, 52, 53, 54, 55, 56, 57, 58, 59, 60, 61, 62, 63, 64, 65, 66, 67, 68, 69, 70, 71, 72, 73, 74, 75, 76, 77, 78, 79, 80, 81, 82, 83, 84]},{\"cartoon\": {\"color\": \"#4aa6ff\"}});\n\tviewergrid_17024149986072927[0][2].addLabel(\"Proposed binding regions\",{\"fontColor\": \"black\", \"backgroundColor\": \"white\", \"position\": {\"x\": 100, \"y\": 100, \"z\": 100}, \"fontSize\": 12},{\"chain\": \"A\", \"resi\": 20});\n\tviewergrid_17024149986072927[0][0].addSurface(1,{\"opacity\": 0.5});\n\tviewergrid_17024149986072927[0][1].addSurface(1,{\"opacity\": 0.5});\n\tviewergrid_17024149986072927[0][2].addSurface(1,{\"opacity\": 0.5});\n\tviewergrid_17024149986072927[0][0].zoomTo();\n\tviewergrid_17024149986072927[0][1].zoomTo();\n\tviewergrid_17024149986072927[0][2].zoomTo();\nviewergrid_17024149986072927[0][2].render();\nviewergrid_17024149986072927[0][1].render();\nviewergrid_17024149986072927[0][0].render();\n})\n})\n})\n});\n</script>",
      "text/html": [
       "<div id=\"3dmolviewer_17024149986072927\"  style=\"position: relative; width: 1600px; height: 800px;\">\n",
       "        <p id=\"3dmolwarning_17024149986072927\" style=\"background-color:#ffcccc;color:black\">You appear to be running in JupyterLab (or JavaScript failed to load for some other reason).  You need to install the 3dmol extension: <br>\n",
       "        <tt>jupyter labextension install jupyterlab_3dmol</tt></p>\n",
       "        </div>\n",
       "<script>\n",
       "\n",
       "var loadScriptAsync = function(uri){\n",
       "  return new Promise((resolve, reject) => {\n",
       "    //this is to ignore the existence of requirejs amd\n",
       "    var savedexports, savedmodule;\n",
       "    if (typeof exports !== 'undefined') savedexports = exports;\n",
       "    else exports = {}\n",
       "    if (typeof module !== 'undefined') savedmodule = module;\n",
       "    else module = {}\n",
       "\n",
       "    var tag = document.createElement('script');\n",
       "    tag.src = uri;\n",
       "    tag.async = true;\n",
       "    tag.onload = () => {\n",
       "        exports = savedexports;\n",
       "        module = savedmodule;\n",
       "        resolve();\n",
       "    };\n",
       "  var firstScriptTag = document.getElementsByTagName('script')[0];\n",
       "  firstScriptTag.parentNode.insertBefore(tag, firstScriptTag);\n",
       "});\n",
       "};\n",
       "\n",
       "if(typeof $3Dmolpromise === 'undefined') {\n",
       "$3Dmolpromise = null;\n",
       "  $3Dmolpromise = loadScriptAsync('https://cdnjs.cloudflare.com/ajax/libs/3Dmol/2.0.4/3Dmol-min.js');\n",
       "}\n",
       "\n",
       "var viewer_17024149986072927 = null;\n",
       "var warn = document.getElementById(\"3dmolwarning_17024149986072927\");\n",
       "if(warn) {\n",
       "    warn.parentNode.removeChild(warn);\n",
       "}\n",
       "$3Dmolpromise.then(function() {\n",
       "var viewergrid_17024149986072927 = null;\n",
       "viewergrid_17024149986072927 = $3Dmol.createViewerGrid(document.getElementById(\"3dmolviewer_17024149986072927\"),{rows: 1, cols: 3, control_all: true},{backgroundColor:\"white\"});\n",
       "viewer_17024149986072927 = viewergrid_17024149986072927[0][0];\n",
       "$3Dmol.download(\"pdb:6m0j\", viewergrid_17024149986072927[0][0], {}, function() {\n",
       "$3Dmol.download(\"pdb:6m0j\", viewergrid_17024149986072927[0][1], {}, function() {\n",
       "$3Dmol.download(\"pdb:6m0j\", viewergrid_17024149986072927[0][2], {}, function() {\n",
       "viewergrid_17024149986072927[0][0].zoomTo();viewergrid_17024149986072927[0][1].zoomTo();viewergrid_17024149986072927[0][2].zoomTo();\tviewergrid_17024149986072927[0][0].setStyle({\"chain\": \"E\"},{\"cartoon\": {\"color\": \"#f65fab\"}});\n",
       "\tviewergrid_17024149986072927[0][0].setStyle({\"chain\": \"A\"},{\"cartoon\": {\"color\": \"#4aa6ff\"}});\n",
       "\tviewergrid_17024149986072927[0][0].addLabel(\"RBM (pink) - ACE2 (blue) binding\",{\"fontColor\": \"black\", \"backgroundColor\": \"white\", \"position\": {\"x\": 100, \"y\": 100, \"z\": 100}, \"fontSize\": 12},{\"chain\": \"A\", \"resi\": 20});\n",
       "\tviewergrid_17024149986072927[0][1].setStyle({\"chain\": \"E\", \"within\": {\"distance\": 15, \"sel\": {\"chain\": \"A\"}}},{\"cartoon\": {\"color\": \"#f65fab\"}});\n",
       "\tviewergrid_17024149986072927[0][1].setStyle({\"chain\": \"A\", \"within\": {\"distance\": 15, \"sel\": {\"chain\": \"E\"}}},{\"cartoon\": {\"color\": \"#4aa6ff\"}});\n",
       "\tviewergrid_17024149986072927[0][1].addLabel(\"Residues within 1.5nm of each chain\",{\"fontColor\": \"black\", \"backgroundColor\": \"white\", \"position\": {\"x\": 100, \"y\": 100, \"z\": 100}, \"fontSize\": 12},{\"chain\": \"A\", \"resi\": 20});\n",
       "\tviewergrid_17024149986072927[0][2].setStyle({\"chain\": \"E\", \"resi\": [437, 438, 439, 440, 441, 442, 443, 444, 445, 446, 447, 448, 449, 450, 451, 452, 453, 454, 455, 456, 457, 458, 459, 460, 461, 462, 463, 464, 465, 466, 467, 468, 469, 470, 471, 472, 473, 474, 475, 476, 477, 478, 479, 480, 481, 482, 483, 484, 485, 486, 487, 488, 489, 490, 491, 492, 493, 494, 495, 496, 497, 498, 499, 500, 501, 502, 503, 504, 505, 506, 507]},{\"cartoon\": {\"color\": \"#f65fab\"}});\n",
       "\tviewergrid_17024149986072927[0][2].setStyle({\"chain\": \"A\", \"resi\": [20, 21, 22, 23, 24, 25, 26, 27, 28, 29, 30, 31, 32, 33, 34, 35, 36, 37, 38, 39, 40, 41, 42, 43, 44, 45, 46, 47, 48, 49, 50, 51, 52, 53, 54, 55, 56, 57, 58, 59, 60, 61, 62, 63, 64, 65, 66, 67, 68, 69, 70, 71, 72, 73, 74, 75, 76, 77, 78, 79, 80, 81, 82, 83, 84]},{\"cartoon\": {\"color\": \"#4aa6ff\"}});\n",
       "\tviewergrid_17024149986072927[0][2].addLabel(\"Proposed binding regions\",{\"fontColor\": \"black\", \"backgroundColor\": \"white\", \"position\": {\"x\": 100, \"y\": 100, \"z\": 100}, \"fontSize\": 12},{\"chain\": \"A\", \"resi\": 20});\n",
       "\tviewergrid_17024149986072927[0][0].addSurface(1,{\"opacity\": 0.5});\n",
       "\tviewergrid_17024149986072927[0][1].addSurface(1,{\"opacity\": 0.5});\n",
       "\tviewergrid_17024149986072927[0][2].addSurface(1,{\"opacity\": 0.5});\n",
       "\tviewergrid_17024149986072927[0][0].zoomTo();\n",
       "\tviewergrid_17024149986072927[0][1].zoomTo();\n",
       "\tviewergrid_17024149986072927[0][2].zoomTo();\n",
       "viewergrid_17024149986072927[0][2].render();\n",
       "viewergrid_17024149986072927[0][1].render();\n",
       "viewergrid_17024149986072927[0][0].render();\n",
       "})\n",
       "})\n",
       "})\n",
       "});\n",
       "</script>"
      ]
     },
     "metadata": {},
     "output_type": "display_data"
    }
   ],
   "source": [
    "view_6m0j = pymol.view(width=1600, height=800, viewergrid=(1,3), query='pdb:6m0j')\n",
    "\n",
    "view_6m0j.setStyle({'chain':rbd_segid_6m0j},{'cartoon':{'color':s_protein_rbd_colour}}, viewer=(0,0))\n",
    "view_6m0j.setStyle({'chain':ace2_segid_6m0j},{'cartoon':{'color':ace2_receptor_colour}}, viewer=(0,0))\n",
    "view_6m0j.addLabel('RBM (pink) - ACE2 (blue) binding', {'fontColor': 'black', 'backgroundColor': 'white', 'position': {'x': 100, 'y': 100, 'z': 100}, 'fontSize': 12}, {'chain':ace2_segid_6m0j,'resi':20}, viewer=(0,0))\n",
    "\n",
    "rbd_contacting_selection = {\n",
    "    'chain': 'E',\n",
    "    'within': {'distance': 15, 'sel': {'chain': ace2_segid_6m0j}}\n",
    "}\n",
    "view_6m0j.setStyle(rbd_contacting_selection,{'cartoon':{'color':s_protein_rbd_colour}}, viewer=(0,1))\n",
    "\n",
    "ace2_contacting_selection = {\n",
    "    'chain': ace2_segid_6m0j,\n",
    "    'within': {'distance': 15, 'sel': {'chain': 'E'}}\n",
    "}\n",
    "view_6m0j.setStyle(ace2_contacting_selection,{'cartoon':{'color':ace2_receptor_colour}}, viewer=(0,1))\n",
    "view_6m0j.addLabel('Residues within 1.5nm of each chain', {'fontColor': 'black', 'backgroundColor': 'white', 'position': {'x': 100, 'y': 100, 'z': 100}, 'fontSize': 12}, {'chain':ace2_segid_6m0j,'resi':20}, viewer=(0,1))\n",
    "\n",
    "rbm_residue_numbers = list(range(437,508))\n",
    "view_6m0j.setStyle({'chain':'E','resi':rbm_residue_numbers},{'cartoon':{'color':s_protein_rbd_colour}}, viewer=(0,2))\n",
    "ace2_nterm_residue_numbers = list(range(20,85))\n",
    "view_6m0j.setStyle({'chain':ace2_segid_6m0j,'resi':ace2_nterm_residue_numbers},{'cartoon':{'color':ace2_receptor_colour}}, viewer=(0,2))\n",
    "view_6m0j.addLabel('Proposed binding regions', {'fontColor': 'black', 'backgroundColor': 'white', 'position': {'x': 100, 'y': 100, 'z': 100}, 'fontSize': 12}, {'chain':ace2_segid_6m0j,'resi':20}, viewer=(0,2))\n",
    "\n",
    "view_6m0j.addSurface(pymol.VDW, {'opacity':0.5}, viewer=(0,0))\n",
    "view_6m0j.addSurface(pymol.VDW, {'opacity':0.5}, viewer=(0,1))\n",
    "view_6m0j.addSurface(pymol.VDW, {'opacity':0.5}, viewer=(0,2))\n",
    "\n",
    "view_6m0j.zoomTo()\n",
    "view_6m0j.show()"
   ]
  },
  {
   "cell_type": "markdown",
   "metadata": {},
   "source": [
    "7Z0X\n",
    "===\n",
    "THSC20.HVTR26 FAB BOUND TO SARS-COV-2 RECEPTOR BINDING DOMAIN\\\n",
    "\\\n",
    "The binding region of FAB is less well defined.\\\n",
    "This binding pocket is formed from a series of loops which compose the pocket walls.\\\n",
    "This pocket appears to surround the tip of the S protein RBM.\n"
   ]
  },
  {
   "cell_type": "code",
   "execution_count": 3,
   "metadata": {},
   "outputs": [
    {
     "data": {
      "application/3dmoljs_load.v0": "<div id=\"3dmolviewer_17024149986558084\"  style=\"position: relative; width: 1500px; height: 600px;\">\n        <p id=\"3dmolwarning_17024149986558084\" style=\"background-color:#ffcccc;color:black\">You appear to be running in JupyterLab (or JavaScript failed to load for some other reason).  You need to install the 3dmol extension: <br>\n        <tt>jupyter labextension install jupyterlab_3dmol</tt></p>\n        </div>\n<script>\n\nvar loadScriptAsync = function(uri){\n  return new Promise((resolve, reject) => {\n    //this is to ignore the existence of requirejs amd\n    var savedexports, savedmodule;\n    if (typeof exports !== 'undefined') savedexports = exports;\n    else exports = {}\n    if (typeof module !== 'undefined') savedmodule = module;\n    else module = {}\n\n    var tag = document.createElement('script');\n    tag.src = uri;\n    tag.async = true;\n    tag.onload = () => {\n        exports = savedexports;\n        module = savedmodule;\n        resolve();\n    };\n  var firstScriptTag = document.getElementsByTagName('script')[0];\n  firstScriptTag.parentNode.insertBefore(tag, firstScriptTag);\n});\n};\n\nif(typeof $3Dmolpromise === 'undefined') {\n$3Dmolpromise = null;\n  $3Dmolpromise = loadScriptAsync('https://cdnjs.cloudflare.com/ajax/libs/3Dmol/2.0.4/3Dmol-min.js');\n}\n\nvar viewer_17024149986558084 = null;\nvar warn = document.getElementById(\"3dmolwarning_17024149986558084\");\nif(warn) {\n    warn.parentNode.removeChild(warn);\n}\n$3Dmolpromise.then(function() {\nvar viewergrid_17024149986558084 = null;\nviewergrid_17024149986558084 = $3Dmol.createViewerGrid(document.getElementById(\"3dmolviewer_17024149986558084\"),{rows: 1, cols: 3, control_all: true},{backgroundColor:\"white\"});\nviewer_17024149986558084 = viewergrid_17024149986558084[0][0];\n$3Dmol.download(\"pdb:7z0x\", viewergrid_17024149986558084[0][0], {}, function() {\n$3Dmol.download(\"pdb:7z0x\", viewergrid_17024149986558084[0][1], {}, function() {\n$3Dmol.download(\"pdb:7z0x\", viewergrid_17024149986558084[0][2], {}, function() {\nviewergrid_17024149986558084[0][0].zoomTo();viewergrid_17024149986558084[0][1].zoomTo();viewergrid_17024149986558084[0][2].zoomTo();\tviewergrid_17024149986558084[0][0].setStyle({\"chain\": \"R\"},{\"cartoon\": {\"color\": \"#f65fab\"}});\n\tviewergrid_17024149986558084[0][0].setStyle({\"chain\": \"H\"},{\"cartoon\": {\"color\": \"#45c4c2\"}});\n\tviewergrid_17024149986558084[0][0].setStyle({\"chain\": \"L\"},{\"cartoon\": {\"color\": \"#51c445\"}});\n\tviewergrid_17024149986558084[0][0].addLabel(\"RBM (pink) - FAB (green) binding\",{\"fontColor\": \"black\", \"backgroundColor\": \"white\", \"position\": {\"x\": 100, \"y\": 100, \"z\": 100}, \"fontSize\": 12},{\"chain\": \"A\", \"resi\": 20});\n\tviewergrid_17024149986558084[0][1].setStyle({\"chain\": \"R\", \"within\": {\"distance\": 15, \"sel\": {\"chain\": \"L\"}}},{\"cartoon\": {\"color\": \"#f65fab\"}});\n\tviewergrid_17024149986558084[0][1].setStyle({\"chain\": \"H\", \"within\": {\"distance\": 15, \"sel\": {\"chain\": \"R\"}}},{\"cartoon\": {\"color\": \"#45c4c2\"}});\n\tviewergrid_17024149986558084[0][1].setStyle({\"chain\": \"L\", \"within\": {\"distance\": 15, \"sel\": {\"chain\": \"R\"}}},{\"cartoon\": {\"color\": \"#51c445\"}});\n\tviewergrid_17024149986558084[0][1].addLabel(\"Residues within 1.5nm of each chain\",{\"fontColor\": \"black\", \"backgroundColor\": \"white\", \"position\": {\"x\": 100, \"y\": 100, \"z\": 100}, \"fontSize\": 12},{\"chain\": \"A\", \"resi\": 20});\n\tviewergrid_17024149986558084[0][2].setStyle({\"chain\": \"R\", \"resi\": [470, 471, 472, 473, 474, 475, 476, 477, 478, 479, 480, 481, 482, 483, 484, 485, 486, 487, 488, 489]},{\"cartoon\": {\"color\": \"#f65fab\"}});\n\tviewergrid_17024149986558084[0][2].setStyle({\"chain\": \"H\", \"resi\": [30, 31, 32, 33, 34, 35, 36, 37, 38, 39, 40, 41, 42, 43, 44, 45, 46, 47, 48, 49, 50, 51, 52, 53, 54, 55, 56, 57, 58, 59, 60, 61, 62, 63, 64, 95, 96, 97, 98, 99, 100, 101, 102, 103, 104]},{\"cartoon\": {\"color\": \"#45c4c2\"}});\n\tviewergrid_17024149986558084[0][2].setStyle({\"chain\": \"L\", \"resi\": [25, 26, 27, 28, 29, 30, 31, 32, 33, 34, 35, 36, 37, 38, 39, 40, 41, 42, 43, 44, 45, 46, 47, 48, 49, 50, 51, 52, 53, 54, 85, 86, 87, 88, 89, 90, 91, 92, 93, 94, 95, 96, 97, 98, 99]},{\"cartoon\": {\"color\": \"#51c445\"}});\n\tviewergrid_17024149986558084[0][2].addLabel(\"Proposed binding regions\",{\"fontColor\": \"black\", \"backgroundColor\": \"white\", \"position\": {\"x\": 100, \"y\": 100, \"z\": 100}, \"fontSize\": 12},{\"chain\": \"A\", \"resi\": 20});\n\tviewergrid_17024149986558084[0][0].addSurface(1,{\"opacity\": 0.5});\n\tviewergrid_17024149986558084[0][1].addSurface(1,{\"opacity\": 0.5});\n\tviewergrid_17024149986558084[0][2].addSurface(1,{\"opacity\": 0.5});\nviewergrid_17024149986558084[0][2].render();\nviewergrid_17024149986558084[0][1].render();\nviewergrid_17024149986558084[0][0].render();\n})\n})\n})\n});\n</script>",
      "text/html": [
       "<div id=\"3dmolviewer_17024149986558084\"  style=\"position: relative; width: 1500px; height: 600px;\">\n",
       "        <p id=\"3dmolwarning_17024149986558084\" style=\"background-color:#ffcccc;color:black\">You appear to be running in JupyterLab (or JavaScript failed to load for some other reason).  You need to install the 3dmol extension: <br>\n",
       "        <tt>jupyter labextension install jupyterlab_3dmol</tt></p>\n",
       "        </div>\n",
       "<script>\n",
       "\n",
       "var loadScriptAsync = function(uri){\n",
       "  return new Promise((resolve, reject) => {\n",
       "    //this is to ignore the existence of requirejs amd\n",
       "    var savedexports, savedmodule;\n",
       "    if (typeof exports !== 'undefined') savedexports = exports;\n",
       "    else exports = {}\n",
       "    if (typeof module !== 'undefined') savedmodule = module;\n",
       "    else module = {}\n",
       "\n",
       "    var tag = document.createElement('script');\n",
       "    tag.src = uri;\n",
       "    tag.async = true;\n",
       "    tag.onload = () => {\n",
       "        exports = savedexports;\n",
       "        module = savedmodule;\n",
       "        resolve();\n",
       "    };\n",
       "  var firstScriptTag = document.getElementsByTagName('script')[0];\n",
       "  firstScriptTag.parentNode.insertBefore(tag, firstScriptTag);\n",
       "});\n",
       "};\n",
       "\n",
       "if(typeof $3Dmolpromise === 'undefined') {\n",
       "$3Dmolpromise = null;\n",
       "  $3Dmolpromise = loadScriptAsync('https://cdnjs.cloudflare.com/ajax/libs/3Dmol/2.0.4/3Dmol-min.js');\n",
       "}\n",
       "\n",
       "var viewer_17024149986558084 = null;\n",
       "var warn = document.getElementById(\"3dmolwarning_17024149986558084\");\n",
       "if(warn) {\n",
       "    warn.parentNode.removeChild(warn);\n",
       "}\n",
       "$3Dmolpromise.then(function() {\n",
       "var viewergrid_17024149986558084 = null;\n",
       "viewergrid_17024149986558084 = $3Dmol.createViewerGrid(document.getElementById(\"3dmolviewer_17024149986558084\"),{rows: 1, cols: 3, control_all: true},{backgroundColor:\"white\"});\n",
       "viewer_17024149986558084 = viewergrid_17024149986558084[0][0];\n",
       "$3Dmol.download(\"pdb:7z0x\", viewergrid_17024149986558084[0][0], {}, function() {\n",
       "$3Dmol.download(\"pdb:7z0x\", viewergrid_17024149986558084[0][1], {}, function() {\n",
       "$3Dmol.download(\"pdb:7z0x\", viewergrid_17024149986558084[0][2], {}, function() {\n",
       "viewergrid_17024149986558084[0][0].zoomTo();viewergrid_17024149986558084[0][1].zoomTo();viewergrid_17024149986558084[0][2].zoomTo();\tviewergrid_17024149986558084[0][0].setStyle({\"chain\": \"R\"},{\"cartoon\": {\"color\": \"#f65fab\"}});\n",
       "\tviewergrid_17024149986558084[0][0].setStyle({\"chain\": \"H\"},{\"cartoon\": {\"color\": \"#45c4c2\"}});\n",
       "\tviewergrid_17024149986558084[0][0].setStyle({\"chain\": \"L\"},{\"cartoon\": {\"color\": \"#51c445\"}});\n",
       "\tviewergrid_17024149986558084[0][0].addLabel(\"RBM (pink) - FAB (green) binding\",{\"fontColor\": \"black\", \"backgroundColor\": \"white\", \"position\": {\"x\": 100, \"y\": 100, \"z\": 100}, \"fontSize\": 12},{\"chain\": \"A\", \"resi\": 20});\n",
       "\tviewergrid_17024149986558084[0][1].setStyle({\"chain\": \"R\", \"within\": {\"distance\": 15, \"sel\": {\"chain\": \"L\"}}},{\"cartoon\": {\"color\": \"#f65fab\"}});\n",
       "\tviewergrid_17024149986558084[0][1].setStyle({\"chain\": \"H\", \"within\": {\"distance\": 15, \"sel\": {\"chain\": \"R\"}}},{\"cartoon\": {\"color\": \"#45c4c2\"}});\n",
       "\tviewergrid_17024149986558084[0][1].setStyle({\"chain\": \"L\", \"within\": {\"distance\": 15, \"sel\": {\"chain\": \"R\"}}},{\"cartoon\": {\"color\": \"#51c445\"}});\n",
       "\tviewergrid_17024149986558084[0][1].addLabel(\"Residues within 1.5nm of each chain\",{\"fontColor\": \"black\", \"backgroundColor\": \"white\", \"position\": {\"x\": 100, \"y\": 100, \"z\": 100}, \"fontSize\": 12},{\"chain\": \"A\", \"resi\": 20});\n",
       "\tviewergrid_17024149986558084[0][2].setStyle({\"chain\": \"R\", \"resi\": [470, 471, 472, 473, 474, 475, 476, 477, 478, 479, 480, 481, 482, 483, 484, 485, 486, 487, 488, 489]},{\"cartoon\": {\"color\": \"#f65fab\"}});\n",
       "\tviewergrid_17024149986558084[0][2].setStyle({\"chain\": \"H\", \"resi\": [30, 31, 32, 33, 34, 35, 36, 37, 38, 39, 40, 41, 42, 43, 44, 45, 46, 47, 48, 49, 50, 51, 52, 53, 54, 55, 56, 57, 58, 59, 60, 61, 62, 63, 64, 95, 96, 97, 98, 99, 100, 101, 102, 103, 104]},{\"cartoon\": {\"color\": \"#45c4c2\"}});\n",
       "\tviewergrid_17024149986558084[0][2].setStyle({\"chain\": \"L\", \"resi\": [25, 26, 27, 28, 29, 30, 31, 32, 33, 34, 35, 36, 37, 38, 39, 40, 41, 42, 43, 44, 45, 46, 47, 48, 49, 50, 51, 52, 53, 54, 85, 86, 87, 88, 89, 90, 91, 92, 93, 94, 95, 96, 97, 98, 99]},{\"cartoon\": {\"color\": \"#51c445\"}});\n",
       "\tviewergrid_17024149986558084[0][2].addLabel(\"Proposed binding regions\",{\"fontColor\": \"black\", \"backgroundColor\": \"white\", \"position\": {\"x\": 100, \"y\": 100, \"z\": 100}, \"fontSize\": 12},{\"chain\": \"A\", \"resi\": 20});\n",
       "\tviewergrid_17024149986558084[0][0].addSurface(1,{\"opacity\": 0.5});\n",
       "\tviewergrid_17024149986558084[0][1].addSurface(1,{\"opacity\": 0.5});\n",
       "\tviewergrid_17024149986558084[0][2].addSurface(1,{\"opacity\": 0.5});\n",
       "viewergrid_17024149986558084[0][2].render();\n",
       "viewergrid_17024149986558084[0][1].render();\n",
       "viewergrid_17024149986558084[0][0].render();\n",
       "})\n",
       "})\n",
       "})\n",
       "});\n",
       "</script>"
      ]
     },
     "metadata": {},
     "output_type": "display_data"
    }
   ],
   "source": [
    "view_7z0x = pymol.view(width=1500, height=600, viewergrid=(1,3), query='pdb:7z0x')\n",
    "\n",
    "# Viewer left panel\n",
    "# Show entire protein chains\n",
    "view_7z0x.setStyle({'chain':'R'},{'cartoon':{'color':s_protein_rbd_colour}}, viewer=(0,0))\n",
    "view_7z0x.setStyle({'chain':fab_segid1_7z0x},{'cartoon':{'color':fab_mon_1_colour}}, viewer=(0,0))\n",
    "view_7z0x.setStyle({'chain':fab_segid2_7z0x},{'cartoon':{'color':fab_mon_2_colour}}, viewer=(0,0))\n",
    "view_7z0x.addLabel('RBM (pink) - FAB (green) binding', {'fontColor': 'black', 'backgroundColor': 'white', 'position': {'x': 100, 'y': 100, 'z': 100}, 'fontSize': 12}, {'chain':ace2_segid_6m0j,'resi':20}, viewer=(0,0))\n",
    "\n",
    "# Viewer centre panel\n",
    "# Contact region on RBM (from FAB)\n",
    "rbd_contacting_H_selection = {\n",
    "    'chain': 'R',\n",
    "    'within': {'distance': 15, 'sel': {'chain': fab_segid1_7z0x,'chain':fab_segid2_7z0x}}\n",
    "}\n",
    "view_7z0x.setStyle(rbd_contacting_H_selection,{'cartoon':{'color':s_protein_rbd_colour}}, viewer=(0,1))\n",
    "\n",
    "# Contact region on FAB monomer H (from RBM)\n",
    "fab_H_contacting_selection = {\n",
    "    'chain': fab_segid1_7z0x,\n",
    "    'within': {'distance': 15, 'sel': {'chain': 'R'}}\n",
    "}\n",
    "view_7z0x.setStyle(fab_H_contacting_selection,{'cartoon':{'color':fab_mon_1_colour}}, viewer=(0,1))\n",
    "\n",
    "# Contact region on FAB monomer L (from RBM)\n",
    "fab_L_contacting_selection = {\n",
    "    'chain': fab_segid2_7z0x,\n",
    "    'within': {'distance': 15, 'sel': {'chain': 'R'}}\n",
    "}\n",
    "view_7z0x.setStyle(fab_L_contacting_selection,{'cartoon':{'color':fab_mon_2_colour}}, viewer=(0,1))\n",
    "view_7z0x.addLabel('Residues within 1.5nm of each chain', {'fontColor': 'black', 'backgroundColor': 'white', 'position': {'x': 100, 'y': 100, 'z': 100}, 'fontSize': 12}, {'chain':ace2_segid_6m0j,'resi':20}, viewer=(0,1))\n",
    "\n",
    "# Viewer right panel\n",
    "rbm_fab_bound_residue_numbers = list(range(470,490))\n",
    "view_7z0x.setStyle({'chain':'R','resi':rbm_fab_bound_residue_numbers},{'cartoon':{'color':s_protein_rbd_colour}}, viewer=(0,2))\n",
    "\n",
    "fab_mon_1_pocket_loop_residue_numbers = list(range(30,65)) + list(range(95,105))\n",
    "view_7z0x.setStyle({'chain':fab_segid1_7z0x,'resi':fab_mon_1_pocket_loop_residue_numbers},{'cartoon':{'color':fab_mon_1_colour}}, viewer=(0,2))\n",
    "\n",
    "fab_mon_2_pocket_loop_residue_numbers = list(range(25,55)) + list(range(85,100))\n",
    "view_7z0x.setStyle({'chain':fab_segid2_7z0x,'resi':fab_mon_2_pocket_loop_residue_numbers},{'cartoon':{'color':fab_mon_2_colour}}, viewer=(0,2))\n",
    "view_7z0x.addLabel('Proposed binding regions', {'fontColor': 'black', 'backgroundColor': 'white', 'position': {'x': 100, 'y': 100, 'z': 100}, 'fontSize': 12}, {'chain':ace2_segid_6m0j,'resi':20}, viewer=(0,2))\n",
    "\n",
    "# Show opaque VDW structure\n",
    "view_7z0x.addSurface(pymol.VDW, {'opacity':0.5}, viewer=(0,0))\n",
    "view_7z0x.addSurface(pymol.VDW, {'opacity':0.5}, viewer=(0,1))\n",
    "view_7z0x.addSurface(pymol.VDW, {'opacity':0.5}, viewer=(0,2))\n",
    "\n",
    "view_7z0x.show()"
   ]
  },
  {
   "cell_type": "markdown",
   "metadata": {},
   "source": [
    "Notes\n",
    "===\n",
    "- The RBD of the S protein has significantly better contact to the ACE2 receptor (6M0J) binding site than THSC20.HVTR26 FAB (7Z0X).\n",
    "- The RBM section of the RBD has significant contact to the binding region of ACE2 along the entire face of the N-terminal helix.\n",
    "- The binding of FAB is specifically located at the tip of the RBM in a pocket on the antibody.\n",
    "- Analysing the residues present in the binding regions will describe hydrophilic/hydrophobic and electrostatic characteristics of the binding.\n",
    "- Specificity in the binding between the RBM tip and the binding pocket of FAB could suggest a simple way of removing interaction."
   ]
  },
  {
   "cell_type": "markdown",
   "metadata": {},
   "source": [
    "==============================================================================="
   ]
  },
  {
   "cell_type": "markdown",
   "metadata": {},
   "source": [
    "Residues composing the binding regions\n",
    "===\n",
    "- The residues composing the binding region will characterise the properties of the interaction.\n",
    "- A large representation of hydrophilic or hydrophobic residues in the region may suggest a driving force to the binding event.\n",
    "- This is also true for charged residue representations."
   ]
  },
  {
   "cell_type": "code",
   "execution_count": 4,
   "metadata": {},
   "outputs": [],
   "source": [
    "from rdkit import Chem\n",
    "from rdkit.Chem.Draw import IPythonConsole\n",
    "from rdkit.Chem import Draw\n",
    "\n",
    "# Functions and variables\n",
    "\n",
    "def count_resname_occourances(resname_list : list):\n",
    "    resname_list = list(resname_list)\n",
    "    resnames_set = list(set(resname_list))\n",
    "    resname_counts = [resname_list.count(str(x)) for x in resnames_set]\n",
    "    return [resnames_set,resname_counts]\n",
    "\n",
    "def create_residue_composition_graph(x : list, y : list, title : str, xlabel : str, ylabel : str):\n",
    "    plt.title(title)\n",
    "    plt.xlabel(xlabel)\n",
    "    plt.ylabel(ylabel)\n",
    "    plt.barh(x,y)\n",
    "    return plt.barh\n",
    "\n",
    "def mol_with_atom_index(mol):\n",
    "    for atom in mol.GetAtoms():\n",
    "        atom.SetAtomMapNum(atom.GetIdx())\n",
    "    return mol\n",
    "\n",
    "pbd_6m0j_path = './6m0j.pdb'\n",
    "pbd_7z0x_path = './7z0x.pdb'\n",
    "\n",
    "# SMILES structures\n",
    "smiles_dict = {}\n",
    "smiles_dict['ser'] = 'C([C@@H](C(=O)O)N)O'\n",
    "smiles_dict['asn'] = 'O=C(N)C[C@H](N)C(=O)O'\n",
    "smiles_dict['gly'] = 'C(C(=O)O)N'\n",
    "smiles_dict['tyr'] = 'N[C@@H](Cc1ccc(O)cc1)C(O)=O'\n",
    "smiles_dict['leu'] = 'CC(C)C[C@@H](C(=O)O)N'\n",
    "smiles_dict['phe'] = 'c1ccc(cc1)C[C@@H](C(=O)O)N'\n",
    "smiles_dict['pro'] = 'C1C[C@H](NC1)C(=O)O'"
   ]
  },
  {
   "cell_type": "markdown",
   "metadata": {},
   "source": [
    "6M0J\n",
    "==="
   ]
  },
  {
   "cell_type": "code",
   "execution_count": 5,
   "metadata": {},
   "outputs": [
    {
     "data": {
      "image/png": "[encoded data removed]",
      "text/plain": [
       "<Figure size 640x480 with 1 Axes>"
      ]
     },
     "metadata": {},
     "output_type": "display_data"
    }
   ],
   "source": [
    "u_6m0j = mda.Universe(pbd_6m0j_path)\n",
    "\n",
    "# RBM as defined in...\n",
    "# Structure of the SARS-CoV-2 spike receptor-binding domain bound to the ACE2 receptor\n",
    "# by Lan et al.\n",
    "rbm_residue_numbers_str = ' '.join([str(x) for x in rbm_residue_numbers])\n",
    "s_pro_rbm = u_6m0j.select_atoms('protein and segid E and resid '+rbm_residue_numbers_str)\n",
    "plot_data = count_resname_occourances(s_pro_rbm.residues.resnames)\n",
    "s_pro_rbm_res_comp = create_residue_composition_graph(plot_data[0],plot_data[1],'RBM - residue composition','Count','Resname')"
   ]
  },
  {
   "cell_type": "markdown",
   "metadata": {},
   "source": [
    "- ASN, TYR and ASN are some of the most significantly represented residue and represent a polar character to the RBM.\n",
    "- PHE is less significantly represented however suggests further aromatic character along with TYR.\n",
    "- GLY and PRO are also significantly represnted and are non-polar, however these are generally structural.\n",
    "- LEU is also significant and non-polar."
   ]
  },
  {
   "cell_type": "code",
   "execution_count": 6,
   "metadata": {},
   "outputs": [
    {
     "data": {
      "image/png": "[encoded data removed]",
      "text/plain": [
       "<Figure size 640x480 with 1 Axes>"
      ]
     },
     "metadata": {},
     "output_type": "display_data"
    }
   ],
   "source": [
    "ace2_residue_numbers_str = ' '.join([str(x) for x in ace2_nterm_residue_numbers])\n",
    "ace2_nterm = u_6m0j.select_atoms('protein and segid A and resid '+ace2_residue_numbers_str)\n",
    "plot_data = count_resname_occourances(ace2_nterm.residues.resnames)\n",
    "s_pro_rbm_res_comp = create_residue_composition_graph(plot_data[0],plot_data[1],'ACE2 N-terminal helix - residue composition','Count','Resname')"
   ]
  },
  {
   "cell_type": "markdown",
   "metadata": {},
   "source": [
    "- ASN is also significant in the ACE2 N-terminal helix, suggesting that the RBM is exploiting the polar character of the binding site.\n",
    "- GLU is negatively charged at physiological pH and THR, SER and GLN are polar, suggesting a polar binding site with negative charge.\n",
    "- LEU is also present as in the RBM which may provide a hydrophobic character to the binding interaction."
   ]
  },
  {
   "cell_type": "markdown",
   "metadata": {},
   "source": [
    "7Z0X\n",
    "==="
   ]
  },
  {
   "cell_type": "code",
   "execution_count": 7,
   "metadata": {},
   "outputs": [
    {
     "data": {
      "image/png": "[encoded data removed]",
      "text/plain": [
       "<Figure size 640x480 with 1 Axes>"
      ]
     },
     "metadata": {},
     "output_type": "display_data"
    }
   ],
   "source": [
    "u_7z0x = mda.Universe(pbd_7z0x_path)\n",
    "\n",
    "rbm_fab_bound_residue_numbers_str = ' '.join([str(x) for x in rbm_fab_bound_residue_numbers])\n",
    "s_pro_rbm_fab_bound = u_6m0j.select_atoms('protein and segid E and resid '+rbm_fab_bound_residue_numbers_str)\n",
    "plot_data = count_resname_occourances(s_pro_rbm_fab_bound.residues.resnames)\n",
    "s_pro_rbm_res_comp = create_residue_composition_graph(plot_data[0],plot_data[1],'FAB binding region of the RBM - residue composition','Count','Resname')"
   ]
  },
  {
   "cell_type": "markdown",
   "metadata": {},
   "source": [
    "- There is a large representation of GLY which is non-polar but very small and will likely not contribute significantly to the binding interaction.\n",
    "- THR, ASN, CYS, GLU and TYR expression suggest that the binding point on the tip of the RBM is polar and negatively charged for the same reasons as mentioned previosuly."
   ]
  },
  {
   "cell_type": "code",
   "execution_count": 8,
   "metadata": {},
   "outputs": [
    {
     "data": {
      "image/png": "[encoded data removed]",
      "text/plain": [
       "<Figure size 640x480 with 1 Axes>"
      ]
     },
     "metadata": {},
     "output_type": "display_data"
    }
   ],
   "source": [
    "fab_mon_1_residue_numbers_str = ' '.join([str(x) for x in fab_mon_1_pocket_loop_residue_numbers])\n",
    "fab_mon_1 = u_6m0j.select_atoms('protein and segid A and resid '+fab_mon_1_residue_numbers_str)\n",
    "\n",
    "fab_mon_2_residue_numbers_str = ' '.join([str(x) for x in fab_mon_2_pocket_loop_residue_numbers])\n",
    "fab_mon_2 = u_6m0j.select_atoms('protein and segid A and resid '+fab_mon_2_residue_numbers_str)\n",
    "\n",
    "plot_data = count_resname_occourances(list(fab_mon_1.residues.resnames)+list(fab_mon_2.residues.resnames))\n",
    "s_pro_rbm_res_comp = create_residue_composition_graph(plot_data[0],plot_data[1],'FAB binding pocket loops - residue composition','Count','Resname')"
   ]
  },
  {
   "cell_type": "markdown",
   "metadata": {},
   "source": [
    "- A large representation of ASN suggests that the RBM tip is binding to FAB through specifically polar binding site on the RBM tip.\n",
    "- LEU and GLN are also significant at this point, suggesting poth polar and non-polar characteristics."
   ]
  },
  {
   "cell_type": "markdown",
   "metadata": {},
   "source": [
    "Notes\n",
    "===\n",
    "- Both RBM-ACE2 and RBM-FAB binding appear to be dependany on polar interaction between the S protein and the receptor or antibody.\n",
    "- Although the RBM-FAB interaction appears to be far more specific, simple analysis of the amino acid composition of these regions does not explain the specificity."
   ]
  },
  {
   "cell_type": "markdown",
   "metadata": {},
   "source": [
    "==============================================================================="
   ]
  },
  {
   "cell_type": "markdown",
   "metadata": {},
   "source": [
    "Structural insight\n",
    "===\n",
    "- Amino acid composition alone doesn't explain the specificity of the RBD-FAB interaction.\n",
    "- As the binding site on FAB appears to be a pocket this is likely the result of conformational dependant interactions.\n",
    "- These interactions are dynamic and will change over time.\\\n",
    "\\\n",
    "To tackle this problem I wrote a simple (if a little clunky) python module during my PhD.\\\n",
    "In order to conduct this analysis 100ns molecular dynamics production runs were performed at 310K.\\\n",
    "\\\n",
    "Please note - The following box is commented out as this calculation can run slowely.\n",
    "\\\n",
    "The execution commands are shown for example of how data is generated but were run previously to generate the data files located in /tmp/."
   ]
  },
  {
   "cell_type": "markdown",
   "metadata": {},
   "source": [
    "Generate 6M0J data"
   ]
  },
  {
   "cell_type": "code",
   "execution_count": 9,
   "metadata": {},
   "outputs": [],
   "source": [
    "# # Map RBD\n",
    "# cont_obj = heat.TrajAnalysis('6m0j_sim\\\\6.ions.pdb','./6m0j_fix.xtc',probe_sel='protein and segid A',analyte_sel='protein and segid B')\n",
    "# df = pd.read_csv('tmp\\contact_analysis_data_6m0j_S_RBD.csv')\n",
    "# cont_obj.get_analyte_info()\n",
    "# cont_obj.gen_map(df,BB_only=False)\n",
    "# nv.write_html(\"heatmaps/contact_analysis_data_6m0j_S_RBD.html\",[cont_obj.heatmap])\n",
    "\n",
    "# # Map ACE2\n",
    "# cont_obj = heat.TrajAnalysis('6m0j_sim\\\\6.ions.pdb','./6m0j_fix.xtc',probe_sel='protein and segid B',analyte_sel='protein and segid A')\n",
    "# df = pd.read_csv('tmp\\contact_analysis_data_6m0j_ACE2.csv')\n",
    "# cont_obj.get_analyte_info()\n",
    "# cont_obj.gen_map(df,BB_only=False)\n",
    "# nv.write_html(\"heatmaps/contact_analysis_data_6m0j_ACE2.html\",[cont_obj.heatmap])"
   ]
  },
  {
   "cell_type": "markdown",
   "metadata": {},
   "source": [
    "Generate 7Z0X data"
   ]
  },
  {
   "cell_type": "code",
   "execution_count": 10,
   "metadata": {},
   "outputs": [],
   "source": [
    "# # Map RBD\n",
    "# cont_obj = heat.TrajAnalysis('7z0x_sim/6.ions.pdb','7z0x_sim/7z0x_fix.xtc',probe_sel='protein and segid A B',analyte_sel='protein and segid C')\n",
    "# cont_obj.cont_pro(start=0,stop=100,skip=5)\n",
    "# df = pd.read_csv('tmp\\contact_analysis_data_7z0x_S_RBD.csv')\n",
    "# cont_obj.get_analyte_info()\n",
    "# cont_obj.gen_map(df,BB_only=False)\n",
    "# nv.write_html(\"heatmaps/contact_analysis_data_7z0x_S_RBD.html\",[cont_obj.heatmap])\n",
    "\n",
    "# # Map FAB monomer 1\n",
    "# cont_obj = heat.TrajAnalysis('7z0x_sim/6.ions.pdb','7z0x_sim/7z0x_fix.xtc',probe_sel='protein and segid C',analyte_sel='protein and segid A')\n",
    "# # cont_obj.cont_pro(start=0,stop=100,skip=5)\n",
    "# df = pd.read_csv('tmp\\contact_analysis_data_7z0x_FAB1.csv')\n",
    "# cont_obj.get_analyte_info()\n",
    "# cont_obj.gen_map(df,BB_only=False)\n",
    "# nv.write_html(\"heatmaps/contact_analysis_data_7z0x_FAB1.html\",[cont_obj.heatmap])\n",
    "\n",
    "# # Map FAB monomer 2\n",
    "# cont_obj = heat.TrajAnalysis('7z0x_sim/6.ions.pdb','7z0x_sim/7z0x_fix.xtc',probe_sel='protein and segid C',analyte_sel='protein and segid B')\n",
    "# # cont_obj.cont_pro(start=0,stop=100,skip=5)\n",
    "# df = pd.read_csv('tmp\\contact_analysis_data_7z0x_FAB2.csv')\n",
    "# cont_obj.get_analyte_info()\n",
    "# cont_obj.gen_map(df,BB_only=False)\n",
    "# nv.write_html(\"heatmaps/contact_analysis_data_7z0x_FAB2.html\",[cont_obj.heatmap])"
   ]
  },
  {
   "cell_type": "markdown",
   "metadata": {},
   "source": [
    "6M0J and 7Z0X heatmaps\n",
    "===\n",
    "Below the html files showing a 3D, interactive heatmap of the proteins will launch in the web browser for inspection.\\\n",
    "Warning: The browser suddenly opening can be a little jarring."
   ]
  },
  {
   "cell_type": "code",
   "execution_count": 11,
   "metadata": {},
   "outputs": [
    {
     "data": {
      "text/plain": [
       "True"
      ]
     },
     "execution_count": 11,
     "metadata": {},
     "output_type": "execute_result"
    }
   ],
   "source": [
    "webbrowser.open('heatmaps\\contact_analysis_data_6m0j_S_RBD.html')\n",
    "webbrowser.open('heatmaps\\contact_analysis_data_6m0j_ACE2.html')\n",
    "webbrowser.open('heatmaps\\contact_analysis_data_7z0x_S_RBD.html')\n",
    "webbrowser.open('heatmaps\\contact_analysis_data_7z0x_FAB1.html')\n",
    "webbrowser.open('heatmaps\\contact_analysis_data_7z0x_FAB2.html')"
   ]
  },
  {
   "cell_type": "markdown",
   "metadata": {},
   "source": [
    "Notes\n",
    "===\n",
    "- Both interactions appear to be dependant on aromatic and polar residues.\n",
    "- The FAB interaction is specifically localised to the tip of the RBM.\n",
    "- Removing polar or aromatic regions specfically from the tip would significantly decrease the chance of FAB binding here.\n",
    "- Specifically the PHE residue at position 486 in the S protiein RBD is important in RBD-FAB binding."
   ]
  },
  {
   "cell_type": "markdown",
   "metadata": {},
   "source": [
    "Enhanced sampling\n",
    "===\n",
    "- Pure molecular dynamics simulations are computationally expensive.\n",
    "- There is no garauntee that there simulation is ergodic.\n",
    "- By applying an energetic bias the system can be compelled to explore more of the free-energy landscape than it would stochastically.\\\n",
    "\\\n",
    "I intended to run these simulations with metadynamics, however, unfortunately I did not have time to bug fix and run the simulations this week.\\\n",
    "Instead, I have provided an exmplaination of the approach I intended to take, described where I would apply CVs and discussed other options for enhanced sampling."
   ]
  },
  {
   "cell_type": "markdown",
   "metadata": {},
   "source": [
    "Metadynamics\n",
    "===\n",
    "This approach enables a simulation to sample a larger degree of the energetic landscape by defining \"collective variables\" (CV).\\\n",
    "CVs are used to bias the systems dynamics by assessing the energy relative to pre-defined CVs intended to define the dynamics in question.\\\n",
    "This essentially decreases the systems degrees of freedom such that the dynamics we are intereted in are more likely to occour.\\\n",
    "The bias which is applied by applying CVs means that systems are more likely to explore regions of the free-energy landscape which they would otherwise not.\\"
   ]
  },
  {
   "cell_type": "markdown",
   "metadata": {},
   "source": [
    "Below, regions to consider for CVs are shown \n",
    "In the S protein RBD and ACE2 binding site system (6m0j) good choices of CV could be...\\\n",
    "- The distance between the N-terminal helix (ACE2) and the RBM (S protein) - left\n",
    "- The angle between loops in the RBM - centre\n",
    "- The angle between the N-terminal helix and the rest of the ACE2 complex - right\\\n",
    "Residue coloured light to dark indicate three proposed points to measure a CV angle."
   ]
  },
  {
   "cell_type": "code",
   "execution_count": 12,
   "metadata": {},
   "outputs": [
    {
     "data": {
      "application/3dmoljs_load.v0": "<div id=\"3dmolviewer_17024150040098765\"  style=\"position: relative; width: 1600px; height: 800px;\">\n        <p id=\"3dmolwarning_17024150040098765\" style=\"background-color:#ffcccc;color:black\">You appear to be running in JupyterLab (or JavaScript failed to load for some other reason).  You need to install the 3dmol extension: <br>\n        <tt>jupyter labextension install jupyterlab_3dmol</tt></p>\n        </div>\n<script>\n\nvar loadScriptAsync = function(uri){\n  return new Promise((resolve, reject) => {\n    //this is to ignore the existence of requirejs amd\n    var savedexports, savedmodule;\n    if (typeof exports !== 'undefined') savedexports = exports;\n    else exports = {}\n    if (typeof module !== 'undefined') savedmodule = module;\n    else module = {}\n\n    var tag = document.createElement('script');\n    tag.src = uri;\n    tag.async = true;\n    tag.onload = () => {\n        exports = savedexports;\n        module = savedmodule;\n        resolve();\n    };\n  var firstScriptTag = document.getElementsByTagName('script')[0];\n  firstScriptTag.parentNode.insertBefore(tag, firstScriptTag);\n});\n};\n\nif(typeof $3Dmolpromise === 'undefined') {\n$3Dmolpromise = null;\n  $3Dmolpromise = loadScriptAsync('https://cdnjs.cloudflare.com/ajax/libs/3Dmol/2.0.4/3Dmol-min.js');\n}\n\nvar viewer_17024150040098765 = null;\nvar warn = document.getElementById(\"3dmolwarning_17024150040098765\");\nif(warn) {\n    warn.parentNode.removeChild(warn);\n}\n$3Dmolpromise.then(function() {\nvar viewergrid_17024150040098765 = null;\nviewergrid_17024150040098765 = $3Dmol.createViewerGrid(document.getElementById(\"3dmolviewer_17024150040098765\"),{rows: 1, cols: 3, control_all: true},{backgroundColor:\"white\"});\nviewer_17024150040098765 = viewergrid_17024150040098765[0][0];\n$3Dmol.download(\"pdb:6m0j\", viewergrid_17024150040098765[0][0], {}, function() {\n$3Dmol.download(\"pdb:6m0j\", viewergrid_17024150040098765[0][1], {}, function() {\n$3Dmol.download(\"pdb:6m0j\", viewergrid_17024150040098765[0][2], {}, function() {\nviewergrid_17024150040098765[0][0].zoomTo();viewergrid_17024150040098765[0][1].zoomTo();viewergrid_17024150040098765[0][2].zoomTo();\tviewergrid_17024150040098765[0][0].setStyle({\"chain\": \"E\", \"resi\": [437, 438, 439, 440, 441, 442, 443, 444, 445, 446, 447, 448, 449, 450, 451, 452, 453, 454, 455, 456, 457, 458, 459, 460, 461, 462, 463, 464, 465, 466, 467, 468, 469, 470, 471, 472, 473, 474, 475, 476, 477, 478, 479, 480, 481, 482, 483, 484, 485, 486, 487, 488, 489, 490, 491, 492, 493, 494, 495, 496, 497, 498, 499, 500, 501, 502, 503, 504, 505, 506, 507]},{\"cartoon\": {\"color\": \"#f65fab\", \"style\": \"parabola\"}});\n\tviewergrid_17024150040098765[0][0].setStyle({\"chain\": \"A\", \"resi\": [20, 21, 22, 23, 24, 25, 26, 27, 28, 29, 30, 31, 32, 33, 34, 35, 36, 37, 38, 39, 40, 41, 42, 43, 44, 45, 46, 47, 48, 49, 50, 51, 52, 53, 54, 55, 56, 57, 58, 59, 60, 61, 62, 63, 64, 65, 66, 67, 68, 69, 70, 71, 72, 73, 74, 75, 76, 77, 78, 79, 80, 81, 82, 83, 84]},{\"cartoon\": {\"color\": \"#4aa6ff\"}});\n\tviewergrid_17024150040098765[0][0].addLabel(\"Distance between ACE2 binding site and RBM\",{\"fontColor\": \"black\", \"backgroundColor\": \"white\", \"position\": {\"x\": 100, \"y\": 100, \"z\": 100}, \"fontSize\": 12},{\"chain\": \"A\", \"resi\": 20});\n\tviewergrid_17024150040098765[0][1].setStyle({\"chain\": \"E\", \"resi\": [437, 438, 439, 440, 441, 442, 443, 444, 445, 446, 447, 448, 449, 450, 451, 452, 453, 454, 455, 456, 457, 458, 459, 460, 461, 462, 463, 464, 465, 466, 467, 468, 469, 470, 471, 472, 473, 474, 475, 476, 477, 478, 479, 480, 481, 482, 483, 484, 485, 486, 487, 488, 489, 490, 491, 492, 493, 494, 495, 496, 497, 498, 499, 500, 501, 502, 503, 504, 505, 506, 507]},{\"cartoon\": {\"color\": \"#f65fab\", \"style\": \"parabola\"}});\n\tviewergrid_17024150040098765[0][1].setStyle({\"chain\": \"E\", \"resi\": 468},{\"sphere\": {\"color\": \"#abaeff\", \"style\": \"parabola\"}});\n\tviewergrid_17024150040098765[0][1].setStyle({\"chain\": \"E\", \"resi\": 480},{\"sphere\": {\"color\": \"#478cfc\", \"style\": \"parabola\"}});\n\tviewergrid_17024150040098765[0][1].setStyle({\"chain\": \"E\", \"resi\": 497},{\"sphere\": {\"color\": \"#0008ff\", \"style\": \"parabola\"}});\n\tviewergrid_17024150040098765[0][1].addLabel(\"RBM angle\",{\"fontColor\": \"black\", \"backgroundColor\": \"white\", \"position\": {\"x\": 100, \"y\": 100, \"z\": 100}, \"fontSize\": 12},{\"chain\": \"A\", \"resi\": 20});\n\tviewergrid_17024150040098765[0][2].setStyle({\"chain\": \"A\", \"resi\": [0, 1, 2, 3, 4, 5, 6, 7, 8, 9, 10, 11, 12, 13, 14, 15, 16, 17, 18, 19, 20, 21, 22, 23, 24, 25, 26, 27, 28, 29, 30, 31, 32, 33, 34, 35, 36, 37, 38, 39, 40, 41, 42, 43, 44, 45, 46, 47, 48, 49, 50, 51, 52, 53, 54, 55, 56, 57, 58, 59, 60, 61, 62, 63, 64, 65, 66, 67, 68, 69, 70, 71, 72, 73, 74, 75, 76, 77, 78, 79, 80, 81, 82, 83, 84, 85, 86, 87, 88, 89, 90, 91, 92, 93, 94, 95, 96, 97, 98, 99, 100, 101, 102, 103, 104, 105, 106, 107, 108, 109, 110, 111, 112, 113, 114]},{\"cartoon\": {\"color\": \"#4aa6ff\"}});\n\tviewergrid_17024150040098765[0][2].setStyle({\"chain\": \"A\", \"resi\": 55},{\"sphere\": {\"color\": \"#ffa1a5\", \"style\": \"parabola\"}});\n\tviewergrid_17024150040098765[0][2].setStyle({\"chain\": \"A\", \"resi\": 89},{\"sphere\": {\"color\": \"#ff545b\", \"style\": \"parabola\"}});\n\tviewergrid_17024150040098765[0][2].setStyle({\"chain\": \"A\", \"resi\": 110},{\"sphere\": {\"color\": \"#fa0a1a\", \"style\": \"parabola\"}});\n\tviewergrid_17024150040098765[0][2].addLabel(\"N-terminal helix angle\",{\"fontColor\": \"black\", \"backgroundColor\": \"white\", \"position\": {\"x\": 100, \"y\": 100, \"z\": 100}, \"fontSize\": 12},{\"chain\": \"A\", \"resi\": 20});\n\tviewergrid_17024150040098765[0][0].addSurface(1,{\"opacity\": 0.5});\n\tviewergrid_17024150040098765[0][1].addSurface(1,{\"opacity\": 0.5});\n\tviewergrid_17024150040098765[0][2].addSurface(1,{\"opacity\": 0.5});\n\tviewergrid_17024150040098765[0][0].zoomTo();\n\tviewergrid_17024150040098765[0][1].zoomTo();\n\tviewergrid_17024150040098765[0][2].zoomTo();\nviewergrid_17024150040098765[0][2].render();\nviewergrid_17024150040098765[0][1].render();\nviewergrid_17024150040098765[0][0].render();\n})\n})\n})\n});\n</script>",
      "text/html": [
       "<div id=\"3dmolviewer_17024150040098765\"  style=\"position: relative; width: 1600px; height: 800px;\">\n",
       "        <p id=\"3dmolwarning_17024150040098765\" style=\"background-color:#ffcccc;color:black\">You appear to be running in JupyterLab (or JavaScript failed to load for some other reason).  You need to install the 3dmol extension: <br>\n",
       "        <tt>jupyter labextension install jupyterlab_3dmol</tt></p>\n",
       "        </div>\n",
       "<script>\n",
       "\n",
       "var loadScriptAsync = function(uri){\n",
       "  return new Promise((resolve, reject) => {\n",
       "    //this is to ignore the existence of requirejs amd\n",
       "    var savedexports, savedmodule;\n",
       "    if (typeof exports !== 'undefined') savedexports = exports;\n",
       "    else exports = {}\n",
       "    if (typeof module !== 'undefined') savedmodule = module;\n",
       "    else module = {}\n",
       "\n",
       "    var tag = document.createElement('script');\n",
       "    tag.src = uri;\n",
       "    tag.async = true;\n",
       "    tag.onload = () => {\n",
       "        exports = savedexports;\n",
       "        module = savedmodule;\n",
       "        resolve();\n",
       "    };\n",
       "  var firstScriptTag = document.getElementsByTagName('script')[0];\n",
       "  firstScriptTag.parentNode.insertBefore(tag, firstScriptTag);\n",
       "});\n",
       "};\n",
       "\n",
       "if(typeof $3Dmolpromise === 'undefined') {\n",
       "$3Dmolpromise = null;\n",
       "  $3Dmolpromise = loadScriptAsync('https://cdnjs.cloudflare.com/ajax/libs/3Dmol/2.0.4/3Dmol-min.js');\n",
       "}\n",
       "\n",
       "var viewer_17024150040098765 = null;\n",
       "var warn = document.getElementById(\"3dmolwarning_17024150040098765\");\n",
       "if(warn) {\n",
       "    warn.parentNode.removeChild(warn);\n",
       "}\n",
       "$3Dmolpromise.then(function() {\n",
       "var viewergrid_17024150040098765 = null;\n",
       "viewergrid_17024150040098765 = $3Dmol.createViewerGrid(document.getElementById(\"3dmolviewer_17024150040098765\"),{rows: 1, cols: 3, control_all: true},{backgroundColor:\"white\"});\n",
       "viewer_17024150040098765 = viewergrid_17024150040098765[0][0];\n",
       "$3Dmol.download(\"pdb:6m0j\", viewergrid_17024150040098765[0][0], {}, function() {\n",
       "$3Dmol.download(\"pdb:6m0j\", viewergrid_17024150040098765[0][1], {}, function() {\n",
       "$3Dmol.download(\"pdb:6m0j\", viewergrid_17024150040098765[0][2], {}, function() {\n",
       "viewergrid_17024150040098765[0][0].zoomTo();viewergrid_17024150040098765[0][1].zoomTo();viewergrid_17024150040098765[0][2].zoomTo();\tviewergrid_17024150040098765[0][0].setStyle({\"chain\": \"E\", \"resi\": [437, 438, 439, 440, 441, 442, 443, 444, 445, 446, 447, 448, 449, 450, 451, 452, 453, 454, 455, 456, 457, 458, 459, 460, 461, 462, 463, 464, 465, 466, 467, 468, 469, 470, 471, 472, 473, 474, 475, 476, 477, 478, 479, 480, 481, 482, 483, 484, 485, 486, 487, 488, 489, 490, 491, 492, 493, 494, 495, 496, 497, 498, 499, 500, 501, 502, 503, 504, 505, 506, 507]},{\"cartoon\": {\"color\": \"#f65fab\", \"style\": \"parabola\"}});\n",
       "\tviewergrid_17024150040098765[0][0].setStyle({\"chain\": \"A\", \"resi\": [20, 21, 22, 23, 24, 25, 26, 27, 28, 29, 30, 31, 32, 33, 34, 35, 36, 37, 38, 39, 40, 41, 42, 43, 44, 45, 46, 47, 48, 49, 50, 51, 52, 53, 54, 55, 56, 57, 58, 59, 60, 61, 62, 63, 64, 65, 66, 67, 68, 69, 70, 71, 72, 73, 74, 75, 76, 77, 78, 79, 80, 81, 82, 83, 84]},{\"cartoon\": {\"color\": \"#4aa6ff\"}});\n",
       "\tviewergrid_17024150040098765[0][0].addLabel(\"Distance between ACE2 binding site and RBM\",{\"fontColor\": \"black\", \"backgroundColor\": \"white\", \"position\": {\"x\": 100, \"y\": 100, \"z\": 100}, \"fontSize\": 12},{\"chain\": \"A\", \"resi\": 20});\n",
       "\tviewergrid_17024150040098765[0][1].setStyle({\"chain\": \"E\", \"resi\": [437, 438, 439, 440, 441, 442, 443, 444, 445, 446, 447, 448, 449, 450, 451, 452, 453, 454, 455, 456, 457, 458, 459, 460, 461, 462, 463, 464, 465, 466, 467, 468, 469, 470, 471, 472, 473, 474, 475, 476, 477, 478, 479, 480, 481, 482, 483, 484, 485, 486, 487, 488, 489, 490, 491, 492, 493, 494, 495, 496, 497, 498, 499, 500, 501, 502, 503, 504, 505, 506, 507]},{\"cartoon\": {\"color\": \"#f65fab\", \"style\": \"parabola\"}});\n",
       "\tviewergrid_17024150040098765[0][1].setStyle({\"chain\": \"E\", \"resi\": 468},{\"sphere\": {\"color\": \"#abaeff\", \"style\": \"parabola\"}});\n",
       "\tviewergrid_17024150040098765[0][1].setStyle({\"chain\": \"E\", \"resi\": 480},{\"sphere\": {\"color\": \"#478cfc\", \"style\": \"parabola\"}});\n",
       "\tviewergrid_17024150040098765[0][1].setStyle({\"chain\": \"E\", \"resi\": 497},{\"sphere\": {\"color\": \"#0008ff\", \"style\": \"parabola\"}});\n",
       "\tviewergrid_17024150040098765[0][1].addLabel(\"RBM angle\",{\"fontColor\": \"black\", \"backgroundColor\": \"white\", \"position\": {\"x\": 100, \"y\": 100, \"z\": 100}, \"fontSize\": 12},{\"chain\": \"A\", \"resi\": 20});\n",
       "\tviewergrid_17024150040098765[0][2].setStyle({\"chain\": \"A\", \"resi\": [0, 1, 2, 3, 4, 5, 6, 7, 8, 9, 10, 11, 12, 13, 14, 15, 16, 17, 18, 19, 20, 21, 22, 23, 24, 25, 26, 27, 28, 29, 30, 31, 32, 33, 34, 35, 36, 37, 38, 39, 40, 41, 42, 43, 44, 45, 46, 47, 48, 49, 50, 51, 52, 53, 54, 55, 56, 57, 58, 59, 60, 61, 62, 63, 64, 65, 66, 67, 68, 69, 70, 71, 72, 73, 74, 75, 76, 77, 78, 79, 80, 81, 82, 83, 84, 85, 86, 87, 88, 89, 90, 91, 92, 93, 94, 95, 96, 97, 98, 99, 100, 101, 102, 103, 104, 105, 106, 107, 108, 109, 110, 111, 112, 113, 114]},{\"cartoon\": {\"color\": \"#4aa6ff\"}});\n",
       "\tviewergrid_17024150040098765[0][2].setStyle({\"chain\": \"A\", \"resi\": 55},{\"sphere\": {\"color\": \"#ffa1a5\", \"style\": \"parabola\"}});\n",
       "\tviewergrid_17024150040098765[0][2].setStyle({\"chain\": \"A\", \"resi\": 89},{\"sphere\": {\"color\": \"#ff545b\", \"style\": \"parabola\"}});\n",
       "\tviewergrid_17024150040098765[0][2].setStyle({\"chain\": \"A\", \"resi\": 110},{\"sphere\": {\"color\": \"#fa0a1a\", \"style\": \"parabola\"}});\n",
       "\tviewergrid_17024150040098765[0][2].addLabel(\"N-terminal helix angle\",{\"fontColor\": \"black\", \"backgroundColor\": \"white\", \"position\": {\"x\": 100, \"y\": 100, \"z\": 100}, \"fontSize\": 12},{\"chain\": \"A\", \"resi\": 20});\n",
       "\tviewergrid_17024150040098765[0][0].addSurface(1,{\"opacity\": 0.5});\n",
       "\tviewergrid_17024150040098765[0][1].addSurface(1,{\"opacity\": 0.5});\n",
       "\tviewergrid_17024150040098765[0][2].addSurface(1,{\"opacity\": 0.5});\n",
       "\tviewergrid_17024150040098765[0][0].zoomTo();\n",
       "\tviewergrid_17024150040098765[0][1].zoomTo();\n",
       "\tviewergrid_17024150040098765[0][2].zoomTo();\n",
       "viewergrid_17024150040098765[0][2].render();\n",
       "viewergrid_17024150040098765[0][1].render();\n",
       "viewergrid_17024150040098765[0][0].render();\n",
       "})\n",
       "})\n",
       "})\n",
       "});\n",
       "</script>"
      ]
     },
     "metadata": {},
     "output_type": "display_data"
    }
   ],
   "source": [
    "view_6m0j = pymol.view(width=1600, height=800, viewergrid=(1,3), query='pdb:6m0j', linked=True)\n",
    "\n",
    "rbm_residue_numbers = list(range(437,508))\n",
    "view_6m0j.setStyle({'chain':'E','resi':rbm_residue_numbers},{'cartoon':{'color':s_protein_rbd_colour,'style':'parabola'}}, viewer=(0,0))\n",
    "ace2_nterm_residue_numbers = list(range(20,85))\n",
    "view_6m0j.setStyle({'chain':ace2_segid_6m0j,'resi':ace2_nterm_residue_numbers},{'cartoon':{'color':ace2_receptor_colour}}, viewer=(0,0))\n",
    "view_6m0j.addLabel('Distance between ACE2 binding site and RBM', {'fontColor': 'black', 'backgroundColor': 'white', 'position': {'x': 100, 'y': 100, 'z': 100}, 'fontSize': 12}, {'chain':ace2_segid_6m0j,'resi':20}, viewer=(0,0))\n",
    "\n",
    "rbm_residue_numbers = list(range(437,508))\n",
    "view_6m0j.setStyle({'chain':'E','resi':rbm_residue_numbers},{'cartoon':{'color':s_protein_rbd_colour,'style':'parabola'}}, viewer=(0,1))\n",
    "view_6m0j.setStyle({'chain':'E','resi':468},{'sphere':{'color':'#abaeff','style':'parabola'}}, viewer=(0,1))\n",
    "view_6m0j.setStyle({'chain':'E','resi':480},{'sphere':{'color':'#478cfc','style':'parabola'}}, viewer=(0,1))\n",
    "view_6m0j.setStyle({'chain':'E','resi':497},{'sphere':{'color':'#0008ff','style':'parabola'}}, viewer=(0,1))\n",
    "view_6m0j.addLabel('RBM angle', {'fontColor': 'black', 'backgroundColor': 'white', 'position': {'x': 100, 'y': 100, 'z': 100}, 'fontSize': 12}, {'chain':ace2_segid_6m0j,'resi':20}, viewer=(0,1))\n",
    "\n",
    "ace2_nterm_residue_numbers = list(range(0,115))\n",
    "view_6m0j.setStyle({'chain':ace2_segid_6m0j,'resi':ace2_nterm_residue_numbers},{'cartoon':{'color':ace2_receptor_colour}}, viewer=(0,2))\n",
    "view_6m0j.setStyle({'chain':ace2_segid_6m0j,'resi':55},{'sphere':{'color':'#ffa1a5','style':'parabola'}}, viewer=(0,2))\n",
    "view_6m0j.setStyle({'chain':ace2_segid_6m0j,'resi':89},{'sphere':{'color':'#ff545b','style':'parabola'}}, viewer=(0,2))\n",
    "view_6m0j.setStyle({'chain':ace2_segid_6m0j,'resi':110},{'sphere':{'color':'#fa0a1a','style':'parabola'}}, viewer=(0,2))\n",
    "view_6m0j.addLabel('N-terminal helix angle', {'fontColor': 'black', 'backgroundColor': 'white', 'position': {'x': 100, 'y': 100, 'z': 100}, 'fontSize': 12}, {'chain':ace2_segid_6m0j,'resi':20}, viewer=(0,2))\n",
    "\n",
    "view_6m0j.addSurface(pymol.VDW, {'opacity':0.5}, viewer=(0,0))\n",
    "view_6m0j.addSurface(pymol.VDW, {'opacity':0.5}, viewer=(0,1))\n",
    "view_6m0j.addSurface(pymol.VDW, {'opacity':0.5}, viewer=(0,2))\n",
    "\n",
    "view_6m0j.zoomTo()\n",
    "view_6m0j.show()"
   ]
  },
  {
   "cell_type": "markdown",
   "metadata": {},
   "source": [
    "These are by no means exhaustive but just suggest a few CVs that could be used to bias the conformational dynamics explored in production."
   ]
  },
  {
   "cell_type": "markdown",
   "metadata": {},
   "source": [
    "Conclusions\n",
    "===\n",
    "FAB binding to the S proteing RBM appears to be specific to the tip of the RBM due to the small pocket size of the FAB binding site. By removing aromatic and polar residues which appear to be essential for binding at the tip of the RBM the potential of FAB binding can be significantly reduced.\\\n",
    "\\\n",
    "Removing these residue specifically at the tip should have a minimal effect on the binding of the S protein RBM to ACE2 as there is significantly greater contact between the RBM and ACE2 along the face of the N-terminal helix.\\\n",
    "\\\n",
    "Specifically I would recommend mutations to F486, T478, N487, Y489 and E484. Replacing these with small, apolar residue will remove the prefered binding site of FAB and likely abrogate FAB binding."
   ]
  }
 ],
 "metadata": {
  "kernelspec": {
   "display_name": ".venv",
   "language": "python",
   "name": "python3"
  },
  "language_info": {
   "codemirror_mode": {
    "name": "ipython",
    "version": 3
   },
   "file_extension": ".py",
   "mimetype": "text/x-python",
   "name": "python",
   "nbconvert_exporter": "python",
   "pygments_lexer": "ipython3",
   "version": "3.9.0"
  }
 },
 "nbformat": 4,
 "nbformat_minor": 2
}
